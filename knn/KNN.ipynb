{
 "cells": [
  {
   "cell_type": "code",
   "execution_count": 1,
   "metadata": {},
   "outputs": [],
   "source": [
    "# Classificazione di vini tramite il dataset disponibile alla url:\n",
    "# https://archive.ics.uci.edu/ml/machine-learning-databases/wine/\n",
    "#\n",
    "# il dataset è costituito da 13 colonne e 178 istanze\n",
    "#\n",
    "# Colonne:\n",
    "# Class: indica la classe del vino, in particolare nel dataset ne abbiamo 3 (classe 1, classe 2 e classe 3). Rappresenta anche l’output che si vuole \n",
    "# ottenere, cioè stabilire a quale di queste classi i nuovi vini appartengono;\n",
    "# Alcohol: indica il grado alcolico del vino (% in volume);\n",
    "# Malic acid: ossia acido malico, uno dei principali acidi organici presenti nelle uve da vino (g / l);\n",
    "# Ash: sono le ceneri, che rappresentano il contenuto delle sostanze minerali presenti in un vino. È un indicatore importante per determinare la qualità del \n",
    "# vino (misurato in millisiemens per centimetro, mS/cm);\n",
    "# Alcalinity of ash: ossia l’alcalinità delle ceneri, un parametro che esprime approssimativamente la quantità di acidi organici presenti nel vino sottoforma \n",
    "# di sali (pH).\n",
    "# Magnesium: indica la quantità di magnesio presente nel vino (g su kg).\n",
    "# Total phenols: indica il numero di fenoli inclusi nel vino, che sono sostanze naturali che danno il colore al vino stesso oltre che a sensazioni gustative \n",
    "# (mg/L).\n",
    "# Flavanoids: I flavonoidi sono i polifenoli più abbondanti nel vino. (mg/L);\n",
    "# Nonflavanoid phenols: I composti fenolici conferiscono caratteristiche specifiche al vino e creano anche aromi e sapori specifici quando le interazioni \n",
    "# complesse si svolgono durante la fermentazione e la vinificazione (mg / L);\n",
    "# Proanthocyanins: indicano le proantocianidine, un tipo di fenolo antiossidante del vinorosso (mg/L).\n",
    "# Color intensity: ossia una semplice misura di quanto sia scuro il vino;\n",
    "# Hue: è una delle principali proprietà del colore;\n",
    "# parametro OD280/OD315 dei vini diluiti;\n",
    "# Proline: ossia la prolina, un amminoacido (Mg / L).\n",
    "\n",
    "# importazione librerie necessarie\n",
    "\n",
    "import pandas as pd\n",
    "import sklearn\n",
    "from sklearn.model_selection import train_test_split\n",
    "from sklearn.preprocessing import StandardScaler\n",
    "from sklearn.neighbors import DistanceMetric\n",
    "from sklearn.neighbors import KNeighborsClassifier\n",
    "from sklearn.metrics import classification_report, confusion_matrix, accuracy_score, ConfusionMatrixDisplay"
   ]
  },
  {
   "cell_type": "code",
   "execution_count": 2,
   "metadata": {
    "pycharm": {
     "name": "#%%\n"
    }
   },
   "outputs": [
    {
     "name": "stdout",
     "output_type": "stream",
     "text": [
      "['cityblock', 'cosine', 'euclidean', 'haversine', 'l2', 'l1', 'manhattan', 'precomputed', 'nan_euclidean', 'braycurtis', 'canberra', 'chebyshev', 'correlation', 'cosine', 'dice', 'hamming', 'jaccard', 'kulsinski', 'mahalanobis', 'matching', 'minkowski', 'rogerstanimoto', 'russellrao', 'seuclidean', 'sokalmichener', 'sokalsneath', 'sqeuclidean', 'yule', 'wminkowski']\n"
     ]
    },
    {
     "data": {
      "text/html": [
       "<div>\n",
       "<style scoped>\n",
       "    .dataframe tbody tr th:only-of-type {\n",
       "        vertical-align: middle;\n",
       "    }\n",
       "\n",
       "    .dataframe tbody tr th {\n",
       "        vertical-align: top;\n",
       "    }\n",
       "\n",
       "    .dataframe thead th {\n",
       "        text-align: right;\n",
       "    }\n",
       "</style>\n",
       "<table border=\"1\" class=\"dataframe\">\n",
       "  <thead>\n",
       "    <tr style=\"text-align: right;\">\n",
       "      <th></th>\n",
       "      <th>classe</th>\n",
       "      <th>alcohol</th>\n",
       "      <th>malic</th>\n",
       "      <th>ceneri</th>\n",
       "      <th>alcalinità ceneri</th>\n",
       "      <th>magnesio</th>\n",
       "      <th>fenoli</th>\n",
       "      <th>flavonoidi</th>\n",
       "      <th>fenoli non flavoloidi</th>\n",
       "      <th>proanthocyanins</th>\n",
       "      <th>intensità colore</th>\n",
       "      <th>hue</th>\n",
       "      <th>param</th>\n",
       "      <th>proline</th>\n",
       "    </tr>\n",
       "  </thead>\n",
       "  <tbody>\n",
       "    <tr>\n",
       "      <th>0</th>\n",
       "      <td>1</td>\n",
       "      <td>14.23</td>\n",
       "      <td>1.71</td>\n",
       "      <td>2.43</td>\n",
       "      <td>15.6</td>\n",
       "      <td>127</td>\n",
       "      <td>2.80</td>\n",
       "      <td>3.06</td>\n",
       "      <td>0.28</td>\n",
       "      <td>2.29</td>\n",
       "      <td>5.64</td>\n",
       "      <td>1.04</td>\n",
       "      <td>3.92</td>\n",
       "      <td>1065</td>\n",
       "    </tr>\n",
       "    <tr>\n",
       "      <th>1</th>\n",
       "      <td>1</td>\n",
       "      <td>13.20</td>\n",
       "      <td>1.78</td>\n",
       "      <td>2.14</td>\n",
       "      <td>11.2</td>\n",
       "      <td>100</td>\n",
       "      <td>2.65</td>\n",
       "      <td>2.76</td>\n",
       "      <td>0.26</td>\n",
       "      <td>1.28</td>\n",
       "      <td>4.38</td>\n",
       "      <td>1.05</td>\n",
       "      <td>3.40</td>\n",
       "      <td>1050</td>\n",
       "    </tr>\n",
       "    <tr>\n",
       "      <th>2</th>\n",
       "      <td>1</td>\n",
       "      <td>13.16</td>\n",
       "      <td>2.36</td>\n",
       "      <td>2.67</td>\n",
       "      <td>18.6</td>\n",
       "      <td>101</td>\n",
       "      <td>2.80</td>\n",
       "      <td>3.24</td>\n",
       "      <td>0.30</td>\n",
       "      <td>2.81</td>\n",
       "      <td>5.68</td>\n",
       "      <td>1.03</td>\n",
       "      <td>3.17</td>\n",
       "      <td>1185</td>\n",
       "    </tr>\n",
       "    <tr>\n",
       "      <th>3</th>\n",
       "      <td>1</td>\n",
       "      <td>14.37</td>\n",
       "      <td>1.95</td>\n",
       "      <td>2.50</td>\n",
       "      <td>16.8</td>\n",
       "      <td>113</td>\n",
       "      <td>3.85</td>\n",
       "      <td>3.49</td>\n",
       "      <td>0.24</td>\n",
       "      <td>2.18</td>\n",
       "      <td>7.80</td>\n",
       "      <td>0.86</td>\n",
       "      <td>3.45</td>\n",
       "      <td>1480</td>\n",
       "    </tr>\n",
       "    <tr>\n",
       "      <th>4</th>\n",
       "      <td>1</td>\n",
       "      <td>13.24</td>\n",
       "      <td>2.59</td>\n",
       "      <td>2.87</td>\n",
       "      <td>21.0</td>\n",
       "      <td>118</td>\n",
       "      <td>2.80</td>\n",
       "      <td>2.69</td>\n",
       "      <td>0.39</td>\n",
       "      <td>1.82</td>\n",
       "      <td>4.32</td>\n",
       "      <td>1.04</td>\n",
       "      <td>2.93</td>\n",
       "      <td>735</td>\n",
       "    </tr>\n",
       "  </tbody>\n",
       "</table>\n",
       "</div>"
      ],
      "text/plain": [
       "   classe  alcohol  malic  ceneri  alcalinità ceneri  magnesio  fenoli  \\\n",
       "0       1    14.23   1.71    2.43               15.6       127    2.80   \n",
       "1       1    13.20   1.78    2.14               11.2       100    2.65   \n",
       "2       1    13.16   2.36    2.67               18.6       101    2.80   \n",
       "3       1    14.37   1.95    2.50               16.8       113    3.85   \n",
       "4       1    13.24   2.59    2.87               21.0       118    2.80   \n",
       "\n",
       "   flavonoidi  fenoli non flavoloidi  proanthocyanins  intensità colore   hue  \\\n",
       "0        3.06                   0.28             2.29              5.64  1.04   \n",
       "1        2.76                   0.26             1.28              4.38  1.05   \n",
       "2        3.24                   0.30             2.81              5.68  1.03   \n",
       "3        3.49                   0.24             2.18              7.80  0.86   \n",
       "4        2.69                   0.39             1.82              4.32  1.04   \n",
       "\n",
       "   param  proline  \n",
       "0   3.92     1065  \n",
       "1   3.40     1050  \n",
       "2   3.17     1185  \n",
       "3   3.45     1480  \n",
       "4   2.93      735  "
      ]
     },
     "execution_count": 2,
     "metadata": {},
     "output_type": "execute_result"
    }
   ],
   "source": [
    "# importazione del dataset\n",
    "url = 'https://archive.ics.uci.edu/ml/machine-learning-databases/wine/wine.data'\n",
    "colonne = ['classe', 'alcohol', 'malic', 'ceneri', 'alcalinità ceneri', 'magnesio', 'fenoli', 'flavonoidi', 'fenoli non flavoloidi', 'proanthocyanins', \n",
    "           'intensità colore', 'hue', 'param', 'proline']\n",
    "dataset = pd.read_csv(url, names=colonne)\n",
    "\n",
    "print(sklearn.neighbors.VALID_METRICS['brute'])\n",
    "\n",
    "dataset.head()"
   ]
  },
  {
   "cell_type": "code",
   "execution_count": 3,
   "metadata": {
    "pycharm": {
     "name": "#%%\n"
    }
   },
   "outputs": [
    {
     "name": "stdout",
     "output_type": "stream",
     "text": [
      "[[1.423e+01 1.710e+00 2.430e+00 ... 1.040e+00 3.920e+00 1.065e+03]\n",
      " [1.320e+01 1.780e+00 2.140e+00 ... 1.050e+00 3.400e+00 1.050e+03]\n",
      " [1.316e+01 2.360e+00 2.670e+00 ... 1.030e+00 3.170e+00 1.185e+03]\n",
      " ...\n",
      " [1.327e+01 4.280e+00 2.260e+00 ... 5.900e-01 1.560e+00 8.350e+02]\n",
      " [1.317e+01 2.590e+00 2.370e+00 ... 6.000e-01 1.620e+00 8.400e+02]\n",
      " [1.413e+01 4.100e+00 2.740e+00 ... 6.100e-01 1.600e+00 5.600e+02]]\n",
      "178\n"
     ]
    }
   ],
   "source": [
    "# esempi e etichette\n",
    "x = dataset.iloc[:, 1:14].values\n",
    "y = dataset.iloc[:, 0].values\n",
    "\n",
    "\n",
    "print(x)\n",
    "print(len(y))"
   ]
  },
  {
   "cell_type": "code",
   "execution_count": 4,
   "metadata": {
    "pycharm": {
     "name": "#%%\n"
    }
   },
   "outputs": [],
   "source": [
    "# divisione in dataset di addestramento e di test\n",
    "x_train, x_test, y_train, y_test = train_test_split(x, y, test_size=0.3)"
   ]
  },
  {
   "cell_type": "code",
   "execution_count": 5,
   "metadata": {
    "pycharm": {
     "name": "#%%\n"
    }
   },
   "outputs": [],
   "source": [
    "# normalizzazione dei dati\n",
    "scaler = StandardScaler()\n",
    "scaler.fit(x_train)\n",
    "\n",
    "x_train = scaler.transform(x_train)\n",
    "x_test = scaler.transform(x_test)\n"
   ]
  },
  {
   "cell_type": "code",
   "execution_count": 6,
   "metadata": {
    "pycharm": {
     "name": "#%%\n"
    }
   },
   "outputs": [
    {
     "data": {
      "text/plain": [
       "KNeighborsClassifier(n_neighbors=1)"
      ]
     },
     "execution_count": 6,
     "metadata": {},
     "output_type": "execute_result"
    }
   ],
   "source": [
    "# addestramento\n",
    "classifier = KNeighborsClassifier(n_neighbors=1)\n",
    "classifier.fit(x_train, y_train)"
   ]
  },
  {
   "cell_type": "code",
   "execution_count": 7,
   "metadata": {
    "pycharm": {
     "name": "#%%\n"
    }
   },
   "outputs": [],
   "source": [
    "# previsione\n",
    "y_pred = classifier.predict(x_test)"
   ]
  },
  {
   "cell_type": "code",
   "execution_count": 8,
   "metadata": {
    "pycharm": {
     "name": "#%%\n"
    }
   },
   "outputs": [
    {
     "name": "stdout",
     "output_type": "stream",
     "text": [
      "[[20  2  0]\n",
      " [ 0 18  0]\n",
      " [ 0  0 14]]\n"
     ]
    }
   ],
   "source": [
    "# valutazione del modello\n",
    "# tramite matrice di confusione\n",
    "print(confusion_matrix(y_pred, y_test))\n",
    "\n",
    "# è una matrice con sulle righe e sulle colonne\n",
    "# le classi da identificare\n",
    "# nelle righe sono riportate le classi reali mentre\n",
    "# sulle colonne le classi predette\n",
    "# se solo la diagonale principale\n",
    "# della matrice è avvalorata, il modello ha predetto\n",
    "# correttamente la classe di ogni esempio"
   ]
  },
  {
   "cell_type": "code",
   "execution_count": 9,
   "metadata": {
    "pycharm": {
     "name": "#%%\n"
    }
   },
   "outputs": [
    {
     "name": "stdout",
     "output_type": "stream",
     "text": [
      "              precision    recall  f1-score   support\n",
      "\n",
      "           1       0.91      1.00      0.95        20\n",
      "           2       1.00      0.90      0.95        20\n",
      "           3       1.00      1.00      1.00        14\n",
      "\n",
      "    accuracy                           0.96        54\n",
      "   macro avg       0.97      0.97      0.97        54\n",
      "weighted avg       0.97      0.96      0.96        54\n",
      "\n"
     ]
    }
   ],
   "source": [
    "# valutazione del modello\n",
    "# report di classificazione di SciKitLearn\n",
    "print(classification_report(y_test, y_pred))\n",
    "\n",
    "# I risultati mostrano che l’algoritmo KNN è stato in grado di \n",
    "# classificare tutti i record nel dataset di test con una \n",
    "# precisione del molto alta, specialmente sulla seconda classe di vini\n",
    "\n",
    "# Precision: è il rapporto tra le osservazioni positive previste correttamente\n",
    "# e le osservazioni positive totali.\n",
    "# \"Di tutte le previsioni positive, quante veramente lo sono?\"\n",
    "\n",
    "# Recall: è il rapporto tra le osservazioni positive previste correttamente\n",
    "# e tutte le osservazioni nella classe effettiva\n",
    "# \"Tra tutte le osservazioni positive, quante sono state predette correttamente?\"\n",
    "\n",
    "# F1-score: è la media ponderata di Precision e Recall.\n",
    "# Tiene conto sia dei falsi positivi che dei falsi negativi.\n",
    "# Intuitivamente non è facile da capire quanto l'accuratezza, ma F1 di solito è\n",
    "# più utile dell'accuratezza, soprattutto se si dispone di una distribuzione\n",
    "# delle classi non uniforme. La precisione funziona meglio se falsi positivi\n",
    "# e falsi negativi hanno un costo simile.\n",
    "# Se il costo dei falsi positivi e dei falsi negativi è molto diverso, è meglio\n",
    "# considerare sia Precision che Recall singolarmente."
   ]
  },
  {
   "cell_type": "code",
   "execution_count": 11,
   "metadata": {},
   "outputs": [
    {
     "data": {
      "text/plain": [
       "['braycurtis',\n",
       " 'canberra',\n",
       " 'chebyshev',\n",
       " 'cityblock',\n",
       " 'correlation',\n",
       " 'cosine',\n",
       " 'cosine',\n",
       " 'dice',\n",
       " 'euclidean',\n",
       " 'hamming',\n",
       " 'haversine',\n",
       " 'jaccard',\n",
       " 'kulsinski',\n",
       " 'l1',\n",
       " 'l2',\n",
       " 'mahalanobis',\n",
       " 'manhattan',\n",
       " 'matching',\n",
       " 'minkowski',\n",
       " 'nan_euclidean',\n",
       " 'precomputed',\n",
       " 'rogerstanimoto',\n",
       " 'russellrao',\n",
       " 'seuclidean',\n",
       " 'sokalmichener',\n",
       " 'sokalsneath',\n",
       " 'sqeuclidean',\n",
       " 'wminkowski',\n",
       " 'yule']"
      ]
     },
     "execution_count": 11,
     "metadata": {},
     "output_type": "execute_result"
    }
   ],
   "source": [
    "sorted(sklearn.neighbors.VALID_METRICS['brute'])"
   ]
  },
  {
   "cell_type": "code",
   "execution_count": 17,
   "metadata": {
    "pycharm": {
     "name": "#%%\n"
    }
   },
   "outputs": [
    {
     "name": "stdout",
     "output_type": "stream",
     "text": [
      "Classifier with k=1\n",
      "[[20  0  0]\n",
      " [ 2 18  0]\n",
      " [ 0  0 14]]\n",
      "0.9629629629629629\n",
      "\n",
      "\n",
      "Classifier with k=3\n",
      "[[20  0  0]\n",
      " [ 2 17  1]\n",
      " [ 0  0 14]]\n",
      "0.9444444444444444\n",
      "\n",
      "\n",
      "Classifier with k=5\n",
      "[[20  0  0]\n",
      " [ 2 18  0]\n",
      " [ 0  0 14]]\n",
      "0.9629629629629629\n",
      "\n",
      "\n",
      "Classifier with k=7\n",
      "[[20  0  0]\n",
      " [ 2 18  0]\n",
      " [ 0  0 14]]\n",
      "0.9629629629629629\n",
      "\n",
      "\n"
     ]
    }
   ],
   "source": [
    "for i in [1, 3, 5, 7]:\n",
    "    print(\"Classifier with k={0}\".format(i))\n",
    "    classifier = KNeighborsClassifier(n_neighbors=i, metric='euclidean')\n",
    "    classifier.fit(x_train, y_train)\n",
    "    # previsione\n",
    "    y_pred = classifier.predict(x_test)\n",
    "    print(confusion_matrix(y_test, y_pred))\n",
    "    print(accuracy_score(y_test, y_pred))\n",
    "    print(\"\\n\")"
   ]
  },
  {
   "cell_type": "code",
   "execution_count": null,
   "metadata": {},
   "outputs": [],
   "source": []
  }
 ],
 "metadata": {
  "kernelspec": {
   "display_name": "Python 3 (ipykernel)",
   "language": "python",
   "name": "python3"
  },
  "language_info": {
   "codemirror_mode": {
    "name": "ipython",
    "version": 3
   },
   "file_extension": ".py",
   "mimetype": "text/x-python",
   "name": "python",
   "nbconvert_exporter": "python",
   "pygments_lexer": "ipython3",
   "version": "3.10.5"
  }
 },
 "nbformat": 4,
 "nbformat_minor": 1
}
