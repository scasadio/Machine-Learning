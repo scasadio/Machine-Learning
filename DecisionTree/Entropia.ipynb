{
 "cells": [
  {
   "cell_type": "markdown",
   "metadata": {},
   "source": [
    "## Entropia e Information Gain negli alberi decisionali\n",
    "\n",
    "L'entropia, nella teoria dell'informazione, è una misura dell'**incertezza** associato ad una variabile casuale. In questo contesto, la parola \"entropia\" si riferisce solitamente all'[Entropia di Shannon](https://en.wikipedia.org/wiki/Entropy_(information_theory)), che quantifica, nel senso di un valore atteso, l'informazione contenuta in un messaggio, solitamente espressa in bit. Equivalentemente, l'entropia di Shannon è una misura del contenuto informativo medio che manca quando non si conosce il valore della variabile casuale.\n",
    "\n",
    "<img src=\"https://miro.medium.com/max/565/1*M15RZMSk8nGEyOnD8haF-A.png\" />\n",
    "\n",
    "La misura di entropia si applica ad un dataset ma è relativa ad una singola feature.\n",
    "Vediamo i due estremi in cui l'entropia è pari a zero in quanto non c'è incertezza. \n",
    "Se entrambi i valori, - e +, sono presenti in egual numero, allora l'entropia è massima, =1, in quanto indica la presenza di massima incertezza.\n",
    "\n",
    "In generale è possibile calcolare l'entropia di una variabile casuale discreta come: \n",
    "\n",
    "<img src=\"https://wikimedia.org/api/rest_v1/media/math/render/svg/b29bc7ca1bec9b7b9aa03ebf2332c61e8fd1f897\" />\n",
    "\n",
    "Dove $ P_{i} $ è la probabilità di appartenenza ad una delle classi della variabile casuale $ X $ e il logaritmo è in base 2 (base b, b=numero di classi ottenute). Strettamente connesso a questo concetto è il concetto di **Information Gain** (misura utilizzata per fare la scelta di split data dall'entropia), che viene poi effettivamente utilizzato come criterio per decidere le feature su cui costruire gli split di un albero decisionale. È possibile calcolare l'information gain in questa maniera: \n",
    "\n",
    "<img src=\"https://wikimedia.org/api/rest_v1/media/math/render/svg/ce1cc627a4c7795af67661345fb6d544ac53a31e\" />\n",
    "\n",
    "in cui $ H(T) $ misura l'entropia dello split _precedente_ mentre $ H(T|a) $ misura l'entropia allo split attuale _condizionato_ da un'altra variabile. Si calcola l'information gain per ogni feature a nostra disposizione e si sceglie quella che ci dà information gain più alto. Il concetto alla base dell'Information Gain è che una caratteristica con un alto guadagno informativo contribuirà maggiormente a separare le classi nei dati rispetto ad una caratteristica con un basso guadagno informativo. La feature selezionata contribuirà a ridurre l'entropia di $ T $ di un piccolo pezzo. "
   ]
  },
  {
   "cell_type": "code",
   "execution_count": 9,
   "metadata": {},
   "outputs": [],
   "source": [
    "import pandas as pd\n",
    "import numpy as np\n",
    "import math\n",
    "\n",
    "dataset = [\n",
    "    ['Giuseppe', 37, 0, 1, 1, 1],\n",
    "    ['Carla', 37, 1, 1, 0, 1],\n",
    "    ['Giulia', 23, 1, 1, 0, 1],\n",
    "    ['Francesca', 26, 0, 0, 1, 0],\n",
    "    ['Gianni', 30, 1, 1, 1, 1],\n",
    "    ['Vincenzo', 25, 1, 0, 0, 1],\n",
    "    ['Daniele', 21, 1, 1, 0, 1],\n",
    "    ['Davide', 42, 1, 1, 0, 1],\n",
    "    ['Antonio', 21, 1, 1, 0, 0],\n",
    "    ['Marianna', 47, 1, 0, 1, 0],\n",
    "    ['Gaetano', 72, 1, 0, 0, 1],\n",
    "    ['Francesco', 24, 1, 1, 1, 0],\n",
    "    ['Giovanni', 19, 0, 1, 0, 1],\n",
    "    ['Fabio', 38, 1, 0, 0, 1],\n",
    "    ['Massimo', 31, 0, 0, 1, 0]\n",
    "]\n",
    "\n",
    "columns = [\"name\", \"age\", \"parmigiana\", \"polenta\", \"sushi\", \"meridionale\"]"
   ]
  },
  {
   "cell_type": "code",
   "execution_count": 10,
   "metadata": {},
   "outputs": [
    {
     "data": {
      "text/html": [
       "<div>\n",
       "<style scoped>\n",
       "    .dataframe tbody tr th:only-of-type {\n",
       "        vertical-align: middle;\n",
       "    }\n",
       "\n",
       "    .dataframe tbody tr th {\n",
       "        vertical-align: top;\n",
       "    }\n",
       "\n",
       "    .dataframe thead th {\n",
       "        text-align: right;\n",
       "    }\n",
       "</style>\n",
       "<table border=\"1\" class=\"dataframe\">\n",
       "  <thead>\n",
       "    <tr style=\"text-align: right;\">\n",
       "      <th></th>\n",
       "      <th>name</th>\n",
       "      <th>age</th>\n",
       "      <th>parmigiana</th>\n",
       "      <th>polenta</th>\n",
       "      <th>sushi</th>\n",
       "      <th>meridionale</th>\n",
       "    </tr>\n",
       "  </thead>\n",
       "  <tbody>\n",
       "    <tr>\n",
       "      <th>0</th>\n",
       "      <td>Giuseppe</td>\n",
       "      <td>37</td>\n",
       "      <td>0</td>\n",
       "      <td>1</td>\n",
       "      <td>1</td>\n",
       "      <td>1</td>\n",
       "    </tr>\n",
       "    <tr>\n",
       "      <th>1</th>\n",
       "      <td>Carla</td>\n",
       "      <td>37</td>\n",
       "      <td>1</td>\n",
       "      <td>1</td>\n",
       "      <td>0</td>\n",
       "      <td>1</td>\n",
       "    </tr>\n",
       "    <tr>\n",
       "      <th>2</th>\n",
       "      <td>Giulia</td>\n",
       "      <td>23</td>\n",
       "      <td>1</td>\n",
       "      <td>1</td>\n",
       "      <td>0</td>\n",
       "      <td>1</td>\n",
       "    </tr>\n",
       "    <tr>\n",
       "      <th>3</th>\n",
       "      <td>Francesca</td>\n",
       "      <td>26</td>\n",
       "      <td>0</td>\n",
       "      <td>0</td>\n",
       "      <td>1</td>\n",
       "      <td>0</td>\n",
       "    </tr>\n",
       "    <tr>\n",
       "      <th>4</th>\n",
       "      <td>Gianni</td>\n",
       "      <td>30</td>\n",
       "      <td>1</td>\n",
       "      <td>1</td>\n",
       "      <td>1</td>\n",
       "      <td>1</td>\n",
       "    </tr>\n",
       "  </tbody>\n",
       "</table>\n",
       "</div>"
      ],
      "text/plain": [
       "        name  age  parmigiana  polenta  sushi  meridionale\n",
       "0   Giuseppe   37           0        1      1            1\n",
       "1      Carla   37           1        1      0            1\n",
       "2     Giulia   23           1        1      0            1\n",
       "3  Francesca   26           0        0      1            0\n",
       "4     Gianni   30           1        1      1            1"
      ]
     },
     "execution_count": 10,
     "metadata": {},
     "output_type": "execute_result"
    }
   ],
   "source": [
    "df=pd.DataFrame(dataset,columns=columns)\n",
    "df.head()"
   ]
  },
  {
   "cell_type": "code",
   "execution_count": 11,
   "metadata": {},
   "outputs": [
    {
     "data": {
      "text/plain": [
       "[1, 1, 0, 0, 0, 0, 0, 1, 0, 1, 1, 0, 0, 1, 1]"
      ]
     },
     "execution_count": 11,
     "metadata": {},
     "output_type": "execute_result"
    }
   ],
   "source": [
    "#uniformiamo le features, creiamo una nuova feature nel dataset per uniformare age in modo che sia binaria come le altre\n",
    "\n",
    "values=[1 if n>df.age.median() else 0 for n in df.age]\n",
    "values"
   ]
  },
  {
   "cell_type": "code",
   "execution_count": 12,
   "metadata": {},
   "outputs": [
    {
     "name": "stdout",
     "output_type": "stream",
     "text": [
      "<class 'pandas.core.frame.DataFrame'>\n",
      "RangeIndex: 15 entries, 0 to 14\n",
      "Data columns (total 7 columns):\n",
      " #   Column         Non-Null Count  Dtype \n",
      "---  ------         --------------  ----- \n",
      " 0   name           15 non-null     object\n",
      " 1   age            15 non-null     int64 \n",
      " 2   age_gt_median  15 non-null     int64 \n",
      " 3   parmigiana     15 non-null     int64 \n",
      " 4   polenta        15 non-null     int64 \n",
      " 5   sushi          15 non-null     int64 \n",
      " 6   meridionale    15 non-null     int64 \n",
      "dtypes: int64(6), object(1)\n",
      "memory usage: 968.0+ bytes\n",
      "None\n"
     ]
    },
    {
     "data": {
      "text/html": [
       "<div>\n",
       "<style scoped>\n",
       "    .dataframe tbody tr th:only-of-type {\n",
       "        vertical-align: middle;\n",
       "    }\n",
       "\n",
       "    .dataframe tbody tr th {\n",
       "        vertical-align: top;\n",
       "    }\n",
       "\n",
       "    .dataframe thead th {\n",
       "        text-align: right;\n",
       "    }\n",
       "</style>\n",
       "<table border=\"1\" class=\"dataframe\">\n",
       "  <thead>\n",
       "    <tr style=\"text-align: right;\">\n",
       "      <th></th>\n",
       "      <th>name</th>\n",
       "      <th>age</th>\n",
       "      <th>age_gt_median</th>\n",
       "      <th>parmigiana</th>\n",
       "      <th>polenta</th>\n",
       "      <th>sushi</th>\n",
       "      <th>meridionale</th>\n",
       "    </tr>\n",
       "  </thead>\n",
       "  <tbody>\n",
       "    <tr>\n",
       "      <th>0</th>\n",
       "      <td>Giuseppe</td>\n",
       "      <td>37</td>\n",
       "      <td>1</td>\n",
       "      <td>0</td>\n",
       "      <td>1</td>\n",
       "      <td>1</td>\n",
       "      <td>1</td>\n",
       "    </tr>\n",
       "    <tr>\n",
       "      <th>1</th>\n",
       "      <td>Carla</td>\n",
       "      <td>37</td>\n",
       "      <td>1</td>\n",
       "      <td>1</td>\n",
       "      <td>1</td>\n",
       "      <td>0</td>\n",
       "      <td>1</td>\n",
       "    </tr>\n",
       "    <tr>\n",
       "      <th>2</th>\n",
       "      <td>Giulia</td>\n",
       "      <td>23</td>\n",
       "      <td>0</td>\n",
       "      <td>1</td>\n",
       "      <td>1</td>\n",
       "      <td>0</td>\n",
       "      <td>1</td>\n",
       "    </tr>\n",
       "    <tr>\n",
       "      <th>3</th>\n",
       "      <td>Francesca</td>\n",
       "      <td>26</td>\n",
       "      <td>0</td>\n",
       "      <td>0</td>\n",
       "      <td>0</td>\n",
       "      <td>1</td>\n",
       "      <td>0</td>\n",
       "    </tr>\n",
       "    <tr>\n",
       "      <th>4</th>\n",
       "      <td>Gianni</td>\n",
       "      <td>30</td>\n",
       "      <td>0</td>\n",
       "      <td>1</td>\n",
       "      <td>1</td>\n",
       "      <td>1</td>\n",
       "      <td>1</td>\n",
       "    </tr>\n",
       "  </tbody>\n",
       "</table>\n",
       "</div>"
      ],
      "text/plain": [
       "        name  age  age_gt_median  parmigiana  polenta  sushi  meridionale\n",
       "0   Giuseppe   37              1           0        1      1            1\n",
       "1      Carla   37              1           1        1      0            1\n",
       "2     Giulia   23              0           1        1      0            1\n",
       "3  Francesca   26              0           0        0      1            0\n",
       "4     Gianni   30              0           1        1      1            1"
      ]
     },
     "execution_count": 12,
     "metadata": {},
     "output_type": "execute_result"
    }
   ],
   "source": [
    "#inserisce una colonna nel dataframe in una locazione specifica\n",
    "df.insert(2, \"age_gt_median\", values)\n",
    "print(df.info())\n",
    "df.head()"
   ]
  },
  {
   "cell_type": "code",
   "execution_count": 13,
   "metadata": {},
   "outputs": [],
   "source": [
    "def entropy(column):\n",
    "    counts=np.bincount(column) #conto quanti 1 e quanti 0\n",
    "    probabilities= counts/len(column)\n",
    "\n",
    "    entropy=0\n",
    "\n",
    "    for prob in  probabilities:\n",
    "        if prob >0:\n",
    "            entropy+= prob*math.log(prob,2)\n",
    "            #guardiamo la formula per il calcolo, aggiugiamo a entropy prob*log(in base due, della probabilità)\n",
    "\n",
    "    return -entropy"
   ]
  },
  {
   "cell_type": "code",
   "execution_count": 15,
   "metadata": {},
   "outputs": [
    {
     "data": {
      "text/plain": [
       "array([8, 7])"
      ]
     },
     "execution_count": 15,
     "metadata": {},
     "output_type": "execute_result"
    }
   ],
   "source": [
    "entropy(values)\n",
    "#molot alto\n",
    "np.bincount(values)"
   ]
  },
  {
   "cell_type": "code",
   "execution_count": 17,
   "metadata": {},
   "outputs": [
    {
     "name": "stdout",
     "output_type": "stream",
     "text": [
      "Entropy for column age_gt_median : 0.9967916319816366\n",
      "Entropy for column parmigiana : 0.8366407419411673\n",
      "Entropy for column polenta : 0.9709505944546686\n",
      "Entropy for column sushi : 0.9709505944546686\n",
      "Entropy for column meridionale : 0.9182958340544896\n"
     ]
    }
   ],
   "source": [
    "for c in df.columns[2:]: #dalla colonna 2\n",
    "    print(f\"Entropy for column {c} : {entropy(df[c])}\")"
   ]
  },
  {
   "cell_type": "code",
   "execution_count": 23,
   "metadata": {},
   "outputs": [
    {
     "name": "stdout",
     "output_type": "stream",
     "text": [
      "0.9182958340544896\n",
      "[1 0]\n"
     ]
    },
    {
     "data": {
      "text/plain": [
       "0.006474767163413775"
      ]
     },
     "execution_count": 23,
     "metadata": {},
     "output_type": "execute_result"
    }
   ],
   "source": [
    "def get_information_gain(data, split_name, target_name): #per un certo dataset, su un certo split e su un certo dataset\n",
    "    original_entropy=entropy(data[target_name])\n",
    "    print(original_entropy)\n",
    "\n",
    "    values=data[split_name].unique() #sono i valori contenuti nella nostra colonna\n",
    "    print(values)\n",
    "\n",
    "    #tutti i valori per quella colonna che sono uguali a 1\n",
    "    left_split= data[data[split_name]==values[0]]\n",
    "    right_split=data[data[split_name]==values[1]]\n",
    "\n",
    "    to_subtract=0   \n",
    "\n",
    "    #prendiamo il numero di entry del subset e lo divisiamo per il numero totale di elementi nel dataset\n",
    "    for subset in [left_split, right_split]:\n",
    "        prob=(subset.shape[0]/data.shape[0])\n",
    "        to_subtract +=prob*entropy(subset[target_name])\n",
    "\n",
    "    return original_entropy-to_subtract\n",
    "\n",
    "get_information_gain(df, \"age_gt_median\", \"meridionale\")"
   ]
  },
  {
   "cell_type": "code",
   "execution_count": 25,
   "metadata": {},
   "outputs": [],
   "source": [
    "def max_info_gain(df, columns, target): \n",
    "    #d={\n",
    "    #   \"col_name\":ig_val-1,\n",
    "    #   \"col_name_2\":ig_val_2\n",
    "    #}\n",
    "\n",
    "    gains={ #dizionario che contiene tutti i valiri dell'information gain\n",
    "\n",
    "    }\n",
    "    for c in columns:\n",
    "        inf_gain=get_information_gain(df, c, target)\n",
    "        gains[c]= inf_gain #entry nel dizionario\n",
    "    \n",
    "    return max(gains, key=gains.get) #voglio che mi ritorni la colonna con l'information gain maggiore"
   ]
  },
  {
   "cell_type": "code",
   "execution_count": 28,
   "metadata": {},
   "outputs": [
    {
     "name": "stdout",
     "output_type": "stream",
     "text": [
      "0.9182958340544896\n",
      "[1 0]\n",
      "0.9182958340544896\n",
      "[0 1]\n",
      "0.9182958340544896\n",
      "[1 0]\n",
      "0.9182958340544896\n",
      "[1 0]\n"
     ]
    },
    {
     "data": {
      "text/plain": [
       "'sushi'"
      ]
     },
     "execution_count": 28,
     "metadata": {},
     "output_type": "execute_result"
    }
   ],
   "source": [
    "max_info_gain(df, df.columns[2:-1], \"meridionale\") #target meridionale, quindi la tolgo"
   ]
  },
  {
   "cell_type": "code",
   "execution_count": null,
   "metadata": {},
   "outputs": [],
   "source": []
  }
 ],
 "metadata": {
  "kernelspec": {
   "display_name": "Python 3",
   "language": "python",
   "name": "python3"
  },
  "language_info": {
   "codemirror_mode": {
    "name": "ipython",
    "version": 3
   },
   "file_extension": ".py",
   "mimetype": "text/x-python",
   "name": "python",
   "nbconvert_exporter": "python",
   "pygments_lexer": "ipython3",
   "version": "3.9.6"
  }
 },
 "nbformat": 4,
 "nbformat_minor": 2
}
